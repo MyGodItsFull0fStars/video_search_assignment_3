{
 "cells": [
  {
   "source": [
    "# Tensors\n",
    "\n",
    "Tensors are very similar to arrays and matrices and are used in PyTorch to encode inputs and outputs of a model, as well as the model's parameters."
   ],
   "cell_type": "markdown",
   "metadata": {
    "collapsed": true
   }
  },
  {
   "cell_type": "code",
   "execution_count": 4,
   "metadata": {},
   "outputs": [],
   "source": [
    "import torch\n",
    "import numpy as np"
   ]
  },
  {
   "source": [
    "## Directly from data\n",
    "\n",
    "Tensors can be created directly from data. \n",
    "The data type is automatically inferred."
   ],
   "cell_type": "markdown",
   "metadata": {}
  },
  {
   "cell_type": "code",
   "execution_count": 8,
   "metadata": {},
   "outputs": [],
   "source": [
    "data = [[1, 2], [3, 4]]\n",
    "x_data = torch.tensor(data)"
   ]
  },
  {
   "source": [
    "# From a NumPy array\n",
    "\n",
    "Tensors can be created from NumPy arrays (and vice versa)"
   ],
   "cell_type": "markdown",
   "metadata": {}
  },
  {
   "cell_type": "code",
   "execution_count": 9,
   "metadata": {},
   "outputs": [],
   "source": [
    "np_array = np.array(data)\n",
    "x_np = torch.from_numpy(np_array)"
   ]
  },
  {
   "source": [
    "# From another tensor\n",
    "\n",
    "The new tensor retains the properties (shape, datatype) of the argument tensor, unless explicitly overwriten."
   ],
   "cell_type": "markdown",
   "metadata": {}
  },
  {
   "cell_type": "code",
   "execution_count": 10,
   "metadata": {},
   "outputs": [
    {
     "output_type": "stream",
     "name": "stdout",
     "text": [
      "Ones Tensor: \n tensor([[1, 1],\n        [1, 1]]) \n\nRandom Tensor: \n tensor([[-0.8587, -0.7996],\n        [ 0.5604, -0.8336]]) \n\n"
     ]
    }
   ],
   "source": [
    "x_ones = torch.ones_like(x_data)    # retains the properties of x_data\n",
    "print(f'Ones Tensor: \\n {x_ones} \\n')\n",
    "\n",
    "x_rand = torch.randn_like(x_data, dtype=torch.float)    # overrides the datatype of x_data\n",
    "print(f'Random Tensor: \\n {x_rand} \\n')"
   ]
  },
  {
   "source": [
    "# With random or constant values:\n",
    "\n",
    "`shape` is a tuple of tensor dimensions.\n",
    "In the function below, it determines the dimensionality of the output tensor."
   ],
   "cell_type": "markdown",
   "metadata": {}
  },
  {
   "cell_type": "code",
   "execution_count": 12,
   "metadata": {},
   "outputs": [
    {
     "output_type": "stream",
     "name": "stdout",
     "text": [
      "Random Tensor: \n tensor([[0.2457, 0.0022, 0.2273],\n        [0.1490, 0.7234, 0.8806]]) \n\nOnes Tensor: \n tensor([[1., 1., 1.],\n        [1., 1., 1.]]) \n\nZeros Tensor: \n tensor([[0., 0., 0.],\n        [0., 0., 0.]])\n"
     ]
    }
   ],
   "source": [
    "shape = (2, 3, )\n",
    "rand_tensor = torch.rand(shape)\n",
    "ones_tensor = torch.ones(shape)\n",
    "zeros_tensor = torch.zeros(shape)\n",
    "\n",
    "print(f\"Random Tensor: \\n {rand_tensor} \\n\")\n",
    "print(f\"Ones Tensor: \\n {ones_tensor} \\n\")\n",
    "print(f\"Zeros Tensor: \\n {zeros_tensor}\")"
   ]
  },
  {
   "source": [
    "# Attributes of Tensors\n",
    "\n",
    "Tensor attributes  describe their shape, datatype, and the device on which they are stored."
   ],
   "cell_type": "markdown",
   "metadata": {}
  },
  {
   "cell_type": "code",
   "execution_count": 16,
   "metadata": {},
   "outputs": [
    {
     "output_type": "stream",
     "name": "stdout",
     "text": [
      "Shape of tensor: torch.Size([3, 4])\nDatatype of tensor: torch.float32\nDevice tensor is stored on : cpu\n"
     ]
    }
   ],
   "source": [
    "tensor = torch.rand(3, 4)\n",
    "\n",
    "print(f'Shape of tensor: {tensor.shape}')\n",
    "print(f'Datatype of tensor: {tensor.dtype}')\n",
    "print(f'Device tensor is stored on : {tensor.device}')"
   ]
  },
  {
   "source": [
    "## Operations on Tensors\n",
    "\n",
    "By default, tensors are created on the CPU. \n",
    "We need to explicitly move to the GPU using `.to` method (after checking for GPU availability).\n",
    "Keep in mind that copying large tensors across devices can be expensive in terms of time and memory!\n"
   ],
   "cell_type": "markdown",
   "metadata": {}
  },
  {
   "cell_type": "code",
   "execution_count": 21,
   "metadata": {},
   "outputs": [],
   "source": [
    "# We move our tensor to the GPU if available\n",
    "if torch.cuda.is_available():\n",
    "    print('should not be reached on the macbook')\n",
    "    tensor = tensor.to('cuda')"
   ]
  },
  {
   "source": [
    "# Joining tensors\n",
    "\n",
    "To concatenate tensors, `torch.cat` can be used along with a given dimension.\n",
    "There is also `torch.stack` which is slightly different."
   ],
   "cell_type": "markdown",
   "metadata": {}
  },
  {
   "cell_type": "code",
   "execution_count": 23,
   "metadata": {},
   "outputs": [
    {
     "output_type": "stream",
     "name": "stdout",
     "text": [
      "tensor([[0.3390, 0.9943, 0.1728, 0.6277, 0.3390, 0.9943, 0.1728, 0.6277, 0.3390,\n         0.9943, 0.1728, 0.6277],\n        [0.5926, 0.0129, 0.9190, 0.0020, 0.5926, 0.0129, 0.9190, 0.0020, 0.5926,\n         0.0129, 0.9190, 0.0020],\n        [0.8280, 0.5154, 0.2467, 0.0661, 0.8280, 0.5154, 0.2467, 0.0661, 0.8280,\n         0.5154, 0.2467, 0.0661]])\n"
     ]
    }
   ],
   "source": [
    "t1 = torch.cat([tensor, tensor, tensor], dim=1)\n",
    "print(t1)"
   ]
  },
  {
   "source": [
    "# Arithmetic operations"
   ],
   "cell_type": "markdown",
   "metadata": {}
  },
  {
   "cell_type": "code",
   "execution_count": 24,
   "metadata": {},
   "outputs": [
    {
     "output_type": "execute_result",
     "data": {
      "text/plain": [
       "tensor([[1.1492e-01, 9.8864e-01, 2.9874e-02, 3.9397e-01],\n",
       "        [3.5120e-01, 1.6534e-04, 8.4448e-01, 3.8415e-06],\n",
       "        [6.8560e-01, 2.6564e-01, 6.0855e-02, 4.3716e-03]])"
      ]
     },
     "metadata": {},
     "execution_count": 24
    }
   ],
   "source": [
    "# This computes the matrix multiplication between two tensors.\n",
    "# y1, y2, y3 will have the same value\n",
    "y1 = tensor @ tensor.T\n",
    "y2 = tensor.matmul(tensor.T)\n",
    "\n",
    "y3 = torch.rand_like(tensor)\n",
    "torch.matmul(tensor, tensor.T, out=y3)\n",
    "\n",
    "# This computes the element-wise product. \n",
    "# z1, z2, z3 will have the same value\n",
    "z1 = tensor * tensor\n",
    "z2 = tensor.mul(tensor)\n",
    "\n",
    "z3 = torch.rand_like(tensor)\n",
    "torch.mul(tensor, tensor, out=z3)"
   ]
  },
  {
   "source": [
    "# Single-element tensors\n",
    "\n",
    "If you have a single one-element tensor, for example by aggregating all values of a tensor into one value, you can convert it to a Python numerical vlaue usint `item()`:"
   ],
   "cell_type": "markdown",
   "metadata": {}
  },
  {
   "cell_type": "code",
   "execution_count": null,
   "metadata": {},
   "outputs": [],
   "source": [
    "agg = tensor.sum()\n",
    "agg_item = agg.item()\n",
    "print(f'{agg} -- {type(agg)}')\n",
    "print(f'{agg_item} -- {type(agg_item)}')"
   ]
  }
 ],
 "metadata": {
  "kernelspec": {
   "name": "python3810jvsc74a57bd030636e35abad1ff3b15ed17bd96a79326fa4cf724806a5f625931baf9b1b9578",
   "display_name": "Python 3.8.10 64-bit ('video_search_assignment_3': conda)"
  },
  "language_info": {
   "codemirror_mode": {
    "name": "ipython",
    "version": 2
   },
   "file_extension": ".py",
   "mimetype": "text/x-python",
   "name": "python",
   "nbconvert_exporter": "python",
   "pygments_lexer": "ipython2",
   "version": "3.8.10"
  }
 },
 "nbformat": 4,
 "nbformat_minor": 0
}