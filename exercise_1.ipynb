{
 "metadata": {
  "language_info": {
   "codemirror_mode": {
    "name": "ipython",
    "version": 3
   },
   "file_extension": ".py",
   "mimetype": "text/x-python",
   "name": "python",
   "nbconvert_exporter": "python",
   "pygments_lexer": "ipython3",
   "version": "3.8.10"
  },
  "orig_nbformat": 2,
  "kernelspec": {
   "name": "python3810jvsc74a57bd030636e35abad1ff3b15ed17bd96a79326fa4cf724806a5f625931baf9b1b9578",
   "display_name": "Python 3.8.10 64-bit ('video_search_assignment_3': conda)"
  },
  "metadata": {
   "interpreter": {
    "hash": "aee8b7b246df8f9039afb4144a1f6fd8d2ca17a180786b69acc140d282b71a49"
   }
  }
 },
 "nbformat": 4,
 "nbformat_minor": 2,
 "cells": [
  {
   "cell_type": "code",
   "execution_count": 24,
   "metadata": {},
   "outputs": [
    {
     "output_type": "stream",
     "name": "stdout",
     "text": [
      "finished importing\n"
     ]
    }
   ],
   "source": [
    "import torch\n",
    "from torch import nn\n",
    "from torch.utils.data import DataLoader\n",
    "from torchvision import datasets\n",
    "from torchvision.transforms import ToTensor, Lambda, Compose\n",
    "import matplotlib.pyplot as plt\n",
    "\n",
    "print('finished importing')"
   ]
  },
  {
   "cell_type": "code",
   "execution_count": null,
   "metadata": {},
   "outputs": [],
   "source": []
  },
  {
   "cell_type": "code",
   "execution_count": 25,
   "metadata": {},
   "outputs": [],
   "source": [
    "# Download training data from open datasets.\n",
    "training_data = datasets.FashionMNIST(\n",
    "    root='data',\n",
    "    train=True,\n",
    "    download=True,\n",
    "    transform=ToTensor(),\n",
    ")\n",
    "\n",
    "test_data = datasets.FashionMNIST(\n",
    "    root='data',\n",
    "    train=False,\n",
    "    download=True,\n",
    "    transform=ToTensor(),\n",
    ")"
   ]
  },
  {
   "cell_type": "code",
   "execution_count": 26,
   "metadata": {},
   "outputs": [
    {
     "output_type": "stream",
     "name": "stdout",
     "text": [
      "Shape of X [N, C, H, W]: torch.Size([64, 1, 28, 28])\nShape of y: torch.int64\n"
     ]
    }
   ],
   "source": [
    "batch_size: int = 64\n",
    "\n",
    "# Create data loaders\n",
    "train_dataloader = DataLoader(training_data, batch_size, shuffle=True)\n",
    "test_data_loader = DataLoader(test_data, batch_size, shuffle=True)\n",
    "\n",
    "for X, y in test_data_loader:\n",
    "    print(f'Shape of X [N, C, H, W]: {X.shape}')\n",
    "    print(f'Shape of y: {y.dtype}')\n",
    "    break"
   ]
  },
  {
   "source": [
    "# Creating Models\n",
    "\n",
    "To define a neural network in PyTorch, we create a class that inherits from `nn.Module`.\n",
    "\n",
    "We define the layers of the network in the `__init__` function and specify how data will pass through the network in the `forward` function.\n",
    "\n",
    "To accelerate operations in the neural network, we move it to the GPU if available."
   ],
   "cell_type": "markdown",
   "metadata": {}
  },
  {
   "cell_type": "code",
   "execution_count": 27,
   "metadata": {},
   "outputs": [
    {
     "output_type": "stream",
     "name": "stdout",
     "text": [
      "Using cpu device\nNeuralNetwork(\n  (flatten): Flatten(start_dim=1, end_dim=-1)\n  (linear_relu_stack): Sequential(\n    (0): Linear(in_features=784, out_features=512, bias=True)\n    (1): ReLU()\n    (2): Linear(in_features=512, out_features=512, bias=True)\n    (3): ReLU()\n    (4): Linear(in_features=512, out_features=10, bias=True)\n    (5): ReLU()\n  )\n)\n"
     ]
    }
   ],
   "source": [
    "# Get cpu or gpu device for training\n",
    "device = 'cuda' if torch.cuda.is_available() else 'cpu'\n",
    "print(f'Using {device} device')\n",
    "\n",
    "# Define model\n",
    "class NeuralNetwork(nn.Module):\n",
    "    \n",
    "    def __init__(self):\n",
    "        super(NeuralNetwork, self).__init__()\n",
    "        self.flatten = nn.Flatten()\n",
    "        self.linear_relu_stack = nn.Sequential(\n",
    "            nn.Linear(28*28, 512),\n",
    "            nn.ReLU(),\n",
    "            nn.Linear(512, 512),\n",
    "            nn.ReLU(),\n",
    "            nn.Linear(512, 10),\n",
    "            nn.ReLU()\n",
    "        )\n",
    "\n",
    "    def forward(self, x):\n",
    "        x = self.flatten(x)\n",
    "        logits = self.linear_relu_stack(x)\n",
    "        return logits\n",
    "\n",
    "model = NeuralNetwork().to(device)\n",
    "print(model)"
   ]
  },
  {
   "source": [
    "# Optimizing the Model Parameters\n",
    "\n",
    "To train a model, we need a loss function and an optimizer."
   ],
   "cell_type": "markdown",
   "metadata": {}
  },
  {
   "cell_type": "code",
   "execution_count": 28,
   "metadata": {},
   "outputs": [],
   "source": [
    "loss_fn = nn.CrossEntropyLoss()\n",
    "optimizer = torch.optim.SGD(model.parameters(), lr=1e-3)"
   ]
  },
  {
   "source": [
    "In a single training loop, the model makes predictions on the training dataset (fed to it in batches), \n",
    "and backpropagates the prediction error to adjust the models parameters."
   ],
   "cell_type": "markdown",
   "metadata": {}
  },
  {
   "cell_type": "code",
   "execution_count": 34,
   "metadata": {},
   "outputs": [],
   "source": [
    "def train(dataloader: DataLoader, model: NeuralNetwork, loss_fn: nn.CrossEntropyLoss, optimizer: torch.optim.SGD) -> None:\n",
    "    size = len(dataloader.dataset)\n",
    "\n",
    "    for batch, (X, y) in enumerate(dataloader):\n",
    "        X, y = X.to(device), y.to(device)\n",
    "\n",
    "        # Compute prediction error\n",
    "        pred = model(X)\n",
    "        loss = loss_fn(pred, y)\n",
    "\n",
    "        # Backpropagation\n",
    "        optimizer.zero_grad()\n",
    "        loss.backward()\n",
    "        optimizer.step()\n",
    "\n",
    "        if batch % 100 == 0:\n",
    "            loss, current = loss.item(), batch * len(X)\n",
    "            print(f'loss: {loss:>7f}  [{current:>5d}/{size:>5d}]')\n",
    "\n",
    "# We also check the models performance against the test dataset to ensure it is learning\n",
    "def test(dataloader: DataLoader, model: NeuralNetwork) -> None:\n",
    "    size = len(dataloader.dataset)\n",
    "    model.eval()\n",
    "    test_loss, correct = 0, 0\n",
    "    with torch.no_grad():\n",
    "        for X, y in dataloader:\n",
    "            X, y = X.to(device), y.to(device)\n",
    "            pred = model(X)\n",
    "            test_loss += loss_fn(pred, y).item()\n",
    "            correct += (pred.argmax(1) == y).type(torch.float).sum().item()\n",
    "    test_loss /= size\n",
    "    correct /= size\n",
    "    print(f'Test Error: \\n Accuracy: {(100*correct):>0.1f}%, Avg loss: {test_loss:>8f} \\n')"
   ]
  },
  {
   "source": [
    "# Training Process\n",
    "\n",
    "The training process is conducted over several iterations (epochs).\n",
    "\n",
    "During each epoch, the model learns parameters to make better predictions.\n",
    "\n",
    "We print the models accuracy and loss at each epoch; we'd like to see the accuracy increase and the loss decrease with each epoch."
   ],
   "cell_type": "markdown",
   "metadata": {}
  },
  {
   "cell_type": "code",
   "execution_count": 36,
   "metadata": {},
   "outputs": [
    {
     "output_type": "stream",
     "name": "stdout",
     "text": [
      "Epoch 1\n",
      "-------------------------------\n",
      "loss: 1.557994  [    0/60000]\n",
      "loss: 1.619909  [ 6400/60000]\n",
      "loss: 1.544233  [12800/60000]\n",
      "loss: 1.537938  [19200/60000]\n",
      "loss: 1.671318  [25600/60000]\n",
      "loss: 1.328589  [32000/60000]\n",
      "loss: 1.499629  [38400/60000]\n",
      "loss: 1.555724  [44800/60000]\n",
      "loss: 1.407366  [51200/60000]\n",
      "loss: 1.257112  [57600/60000]\n",
      "Test Error: \n",
      " Accuracy: 57.0%, Avg loss: 0.022893 \n",
      "\n",
      "Epoch 2\n",
      "-------------------------------\n",
      "loss: 1.480981  [    0/60000]\n",
      "loss: 1.520786  [ 6400/60000]\n",
      "loss: 1.467285  [12800/60000]\n",
      "loss: 1.327206  [19200/60000]\n",
      "loss: 1.412159  [25600/60000]\n",
      "loss: 1.182305  [32000/60000]\n",
      "loss: 1.459795  [38400/60000]\n",
      "loss: 1.825525  [44800/60000]\n",
      "loss: 1.446987  [51200/60000]\n",
      "loss: 1.385465  [57600/60000]\n",
      "Test Error: \n",
      " Accuracy: 57.7%, Avg loss: 0.021396 \n",
      "\n",
      "Epoch 3\n",
      "-------------------------------\n",
      "loss: 1.463294  [    0/60000]\n",
      "loss: 1.298506  [ 6400/60000]\n",
      "loss: 1.243092  [12800/60000]\n",
      "loss: 1.159866  [19200/60000]\n",
      "loss: 1.238205  [25600/60000]\n",
      "loss: 1.053571  [32000/60000]\n",
      "loss: 1.289056  [38400/60000]\n",
      "loss: 1.345283  [44800/60000]\n",
      "loss: 1.195046  [51200/60000]\n",
      "loss: 1.245463  [57600/60000]\n",
      "Test Error: \n",
      " Accuracy: 59.0%, Avg loss: 0.020395 \n",
      "\n",
      "Epoch 4\n",
      "-------------------------------\n",
      "loss: 1.354225  [    0/60000]\n",
      "loss: 1.365029  [ 6400/60000]\n",
      "loss: 1.309977  [12800/60000]\n",
      "loss: 1.310850  [19200/60000]\n",
      "loss: 1.382843  [25600/60000]\n",
      "loss: 1.260902  [32000/60000]\n",
      "loss: 1.267741  [38400/60000]\n",
      "loss: 1.200703  [44800/60000]\n",
      "loss: 1.322020  [51200/60000]\n",
      "loss: 1.368827  [57600/60000]\n",
      "Test Error: \n",
      " Accuracy: 60.1%, Avg loss: 0.019607 \n",
      "\n",
      "Epoch 5\n",
      "-------------------------------\n",
      "loss: 1.041736  [    0/60000]\n",
      "loss: 1.177791  [ 6400/60000]\n",
      "loss: 1.114020  [12800/60000]\n",
      "loss: 1.319284  [19200/60000]\n",
      "loss: 1.171553  [25600/60000]\n",
      "loss: 1.251612  [32000/60000]\n",
      "loss: 1.402516  [38400/60000]\n",
      "loss: 1.224281  [44800/60000]\n",
      "loss: 1.261619  [51200/60000]\n",
      "loss: 1.337790  [57600/60000]\n",
      "Test Error: \n",
      " Accuracy: 61.0%, Avg loss: 0.019045 \n",
      "\n",
      "Epoch 6\n",
      "-------------------------------\n",
      "loss: 1.343740  [    0/60000]\n",
      "loss: 1.483645  [ 6400/60000]\n",
      "loss: 1.048292  [12800/60000]\n",
      "loss: 1.146791  [19200/60000]\n",
      "loss: 1.083484  [25600/60000]\n",
      "loss: 1.174471  [32000/60000]\n",
      "loss: 1.102586  [38400/60000]\n",
      "loss: 1.222365  [44800/60000]\n",
      "loss: 0.947852  [51200/60000]\n",
      "loss: 1.434965  [57600/60000]\n",
      "Test Error: \n",
      " Accuracy: 62.3%, Avg loss: 0.018579 \n",
      "\n",
      "Epoch 7\n",
      "-------------------------------\n",
      "loss: 1.418415  [    0/60000]\n",
      "loss: 1.048369  [ 6400/60000]\n",
      "loss: 1.278656  [12800/60000]\n",
      "loss: 1.175093  [19200/60000]\n",
      "loss: 1.043876  [25600/60000]\n",
      "loss: 1.194302  [32000/60000]\n",
      "loss: 1.117562  [38400/60000]\n",
      "loss: 1.197214  [44800/60000]\n",
      "loss: 1.066842  [51200/60000]\n",
      "loss: 1.217412  [57600/60000]\n",
      "Test Error: \n",
      " Accuracy: 63.2%, Avg loss: 0.018178 \n",
      "\n",
      "Epoch 8\n",
      "-------------------------------\n",
      "loss: 1.557675  [    0/60000]\n",
      "loss: 1.131990  [ 6400/60000]\n",
      "loss: 1.098569  [12800/60000]\n",
      "loss: 1.139781  [19200/60000]\n",
      "loss: 1.088449  [25600/60000]\n",
      "loss: 0.955612  [32000/60000]\n",
      "loss: 1.256241  [38400/60000]\n",
      "loss: 1.284736  [44800/60000]\n",
      "loss: 0.982981  [51200/60000]\n",
      "loss: 1.221316  [57600/60000]\n",
      "Test Error: \n",
      " Accuracy: 63.9%, Avg loss: 0.017877 \n",
      "\n",
      "Epoch 9\n",
      "-------------------------------\n",
      "loss: 1.172402  [    0/60000]\n",
      "loss: 1.113670  [ 6400/60000]\n",
      "loss: 1.074641  [12800/60000]\n",
      "loss: 1.080232  [19200/60000]\n",
      "loss: 1.070866  [25600/60000]\n",
      "loss: 1.086953  [32000/60000]\n",
      "loss: 0.990932  [38400/60000]\n",
      "loss: 1.051355  [44800/60000]\n",
      "loss: 1.457025  [51200/60000]\n",
      "loss: 1.154920  [57600/60000]\n",
      "Test Error: \n",
      " Accuracy: 64.5%, Avg loss: 0.017594 \n",
      "\n",
      "Epoch 10\n",
      "-------------------------------\n",
      "loss: 1.185152  [    0/60000]\n",
      "loss: 1.036929  [ 6400/60000]\n",
      "loss: 1.428800  [12800/60000]\n",
      "loss: 0.971719  [19200/60000]\n",
      "loss: 1.056239  [25600/60000]\n",
      "loss: 0.993482  [32000/60000]\n",
      "loss: 1.008242  [38400/60000]\n",
      "loss: 0.955061  [44800/60000]\n",
      "loss: 1.089778  [51200/60000]\n",
      "loss: 1.040817  [57600/60000]\n",
      "Test Error: \n",
      " Accuracy: 65.2%, Avg loss: 0.017308 \n",
      "\n",
      "Done!\n"
     ]
    }
   ],
   "source": [
    "epochs: int = 10\n",
    "\n",
    "for t in range(epochs):\n",
    "    print(f\"Epoch {t+1}\\n-------------------------------\")\n",
    "    train(train_dataloader, model, loss_fn, optimizer)\n",
    "    test(test_data_loader, model)\n",
    "\n",
    "print('Done!')"
   ]
  },
  {
   "source": [
    "# Saving Models\n",
    "\n",
    "A common way to save a model is to serialize the internal state dictionary (containing the model parameter)."
   ],
   "cell_type": "markdown",
   "metadata": {}
  },
  {
   "cell_type": "code",
   "execution_count": 37,
   "metadata": {},
   "outputs": [],
   "source": [
    "torch.save(model.state_dict(), 'model.pth')"
   ]
  },
  {
   "source": [
    "# Loading Models\n",
    "\n",
    "The process for loading a model includes re-creating the model structure and loading the state dictionary into it."
   ],
   "cell_type": "markdown",
   "metadata": {}
  },
  {
   "cell_type": "code",
   "execution_count": 38,
   "metadata": {},
   "outputs": [
    {
     "output_type": "execute_result",
     "data": {
      "text/plain": [
       "<All keys matched successfully>"
      ]
     },
     "metadata": {},
     "execution_count": 38
    }
   ],
   "source": [
    "model = NeuralNetwork()\n",
    "model.load_state_dict(torch.load('model.pth'))"
   ]
  },
  {
   "source": [
    "# Predictions\n",
    "\n",
    "This model can be used to make predictions."
   ],
   "cell_type": "markdown",
   "metadata": {}
  },
  {
   "cell_type": "code",
   "execution_count": null,
   "metadata": {},
   "outputs": [],
   "source": [
    "classes = [\n",
    "    \"T-shirt/top\",\n",
    "    \"Trouser\",\n",
    "    \"Pullover\",\n",
    "    \"Dress\",\n",
    "    \"Coat\",\n",
    "    \"Sandal\",\n",
    "    \"Shirt\",\n",
    "    \"Sneaker\",\n",
    "    \"Bag\",\n",
    "    \"Ankle boot\",\n",
    "]\n",
    "\n",
    "model.eval()\n",
    "x, y = test_data[0][0], test_data[0][1]\n",
    "with torch.no_grad():\n",
    "    pred = model(x)\n",
    "    predicted, actual = classes[pred[0].argmax(0)], classes[y]\n",
    "    print(f'Predicted: \"{predicted}\", Actual: \"{actual}\"')"
   ]
  },
  {
   "source": [
    "# Iterating and Visualizing the Dataset"
   ],
   "cell_type": "markdown",
   "metadata": {}
  },
  {
   "cell_type": "code",
   "execution_count": 14,
   "metadata": {},
   "outputs": [
    {
     "output_type": "display_data",
     "data": {
      "text/plain": "<Figure size 800x800 with 9 Axes>",
      "image/svg+xml": "<?xml version=\"1.0\" encoding=\"utf-8\" standalone=\"no\"?>\n<!DOCTYPE svg PUBLIC \"-//W3C//DTD SVG 1.1//EN\"\n  \"http://www.w3.org/Graphics/SVG/1.1/DTD/svg11.dtd\">\n<svg height=\"473.038125pt\" version=\"1.1\" viewBox=\"0 0 459.952941 473.038125\" width=\"459.952941pt\" xmlns=\"http://www.w3.org/2000/svg\" xmlns:xlink=\"http://www.w3.org/1999/xlink\">\n <metadata>\n  <rdf:RDF xmlns:cc=\"http://creativecommons.org/ns#\" xmlns:dc=\"http://purl.org/dc/elements/1.1/\" xmlns:rdf=\"http://www.w3.org/1999/02/22-rdf-syntax-ns#\">\n   <cc:Work>\n    <dc:type rdf:resource=\"http://purl.org/dc/dcmitype/StillImage\"/>\n    <dc:date>2021-06-11T10:48:20.893200</dc:date>\n    <dc:format>image/svg+xml</dc:format>\n    <dc:creator>\n     <cc:Agent>\n      <dc:title>Matplotlib v3.4.2, https://matplotlib.org/</dc:title>\n     </cc:Agent>\n    </dc:creator>\n   </cc:Work>\n  </rdf:RDF>\n </metadata>\n <defs>\n  <style type=\"text/css\">*{stroke-linecap:butt;stroke-linejoin:round;}</style>\n </defs>\n <g id=\"figure_1\">\n  <g id=\"patch_1\">\n   <path d=\"M 0 473.038125 \nL 459.952941 473.038125 \nL 459.952941 0 \nL 0 0 \nz\n\" style=\"fill:#ffffff;\"/>\n  </g>\n  <g id=\"axes_1\">\n   <g clip-path=\"url(#p7afe90404b)\">\n    <image height=\"131.04\" id=\"image0556189bc7\" transform=\"scale(1 -1)translate(0 -131.04)\" width=\"131.04\" x=\"7.2\" xlink:href=\"data:image/png;base64,\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\" y=\"-21.725184\"/>\n   </g>\n   <g id=\"text_1\">\n    <!-- Pullover -->\n    <g transform=\"translate(48.393529 16.318125)scale(0.12 -0.12)\">\n     <defs>\n      <path d=\"M 1259 4147 \nL 1259 2394 \nL 2053 2394 \nQ 2494 2394 2734 2622 \nQ 2975 2850 2975 3272 \nQ 2975 3691 2734 3919 \nQ 2494 4147 2053 4147 \nL 1259 4147 \nz\nM 628 4666 \nL 2053 4666 \nQ 2838 4666 3239 4311 \nQ 3641 3956 3641 3272 \nQ 3641 2581 3239 2228 \nQ 2838 1875 2053 1875 \nL 1259 1875 \nL 1259 0 \nL 628 0 \nL 628 4666 \nz\n\" id=\"DejaVuSans-50\" transform=\"scale(0.015625)\"/>\n      <path d=\"M 544 1381 \nL 544 3500 \nL 1119 3500 \nL 1119 1403 \nQ 1119 906 1312 657 \nQ 1506 409 1894 409 \nQ 2359 409 2629 706 \nQ 2900 1003 2900 1516 \nL 2900 3500 \nL 3475 3500 \nL 3475 0 \nL 2900 0 \nL 2900 538 \nQ 2691 219 2414 64 \nQ 2138 -91 1772 -91 \nQ 1169 -91 856 284 \nQ 544 659 544 1381 \nz\nM 1991 3584 \nL 1991 3584 \nz\n\" id=\"DejaVuSans-75\" transform=\"scale(0.015625)\"/>\n      <path d=\"M 603 4863 \nL 1178 4863 \nL 1178 0 \nL 603 0 \nL 603 4863 \nz\n\" id=\"DejaVuSans-6c\" transform=\"scale(0.015625)\"/>\n      <path d=\"M 1959 3097 \nQ 1497 3097 1228 2736 \nQ 959 2375 959 1747 \nQ 959 1119 1226 758 \nQ 1494 397 1959 397 \nQ 2419 397 2687 759 \nQ 2956 1122 2956 1747 \nQ 2956 2369 2687 2733 \nQ 2419 3097 1959 3097 \nz\nM 1959 3584 \nQ 2709 3584 3137 3096 \nQ 3566 2609 3566 1747 \nQ 3566 888 3137 398 \nQ 2709 -91 1959 -91 \nQ 1206 -91 779 398 \nQ 353 888 353 1747 \nQ 353 2609 779 3096 \nQ 1206 3584 1959 3584 \nz\n\" id=\"DejaVuSans-6f\" transform=\"scale(0.015625)\"/>\n      <path d=\"M 191 3500 \nL 800 3500 \nL 1894 563 \nL 2988 3500 \nL 3597 3500 \nL 2284 0 \nL 1503 0 \nL 191 3500 \nz\n\" id=\"DejaVuSans-76\" transform=\"scale(0.015625)\"/>\n      <path d=\"M 3597 1894 \nL 3597 1613 \nL 953 1613 \nQ 991 1019 1311 708 \nQ 1631 397 2203 397 \nQ 2534 397 2845 478 \nQ 3156 559 3463 722 \nL 3463 178 \nQ 3153 47 2828 -22 \nQ 2503 -91 2169 -91 \nQ 1331 -91 842 396 \nQ 353 884 353 1716 \nQ 353 2575 817 3079 \nQ 1281 3584 2069 3584 \nQ 2775 3584 3186 3129 \nQ 3597 2675 3597 1894 \nz\nM 3022 2063 \nQ 3016 2534 2758 2815 \nQ 2500 3097 2075 3097 \nQ 1594 3097 1305 2825 \nQ 1016 2553 972 2059 \nL 3022 2063 \nz\n\" id=\"DejaVuSans-65\" transform=\"scale(0.015625)\"/>\n      <path d=\"M 2631 2963 \nQ 2534 3019 2420 3045 \nQ 2306 3072 2169 3072 \nQ 1681 3072 1420 2755 \nQ 1159 2438 1159 1844 \nL 1159 0 \nL 581 0 \nL 581 3500 \nL 1159 3500 \nL 1159 2956 \nQ 1341 3275 1631 3429 \nQ 1922 3584 2338 3584 \nQ 2397 3584 2469 3576 \nQ 2541 3569 2628 3553 \nL 2631 2963 \nz\n\" id=\"DejaVuSans-72\" transform=\"scale(0.015625)\"/>\n     </defs>\n     <use xlink:href=\"#DejaVuSans-50\"/>\n     <use x=\"58.552734\" xlink:href=\"#DejaVuSans-75\"/>\n     <use x=\"121.931641\" xlink:href=\"#DejaVuSans-6c\"/>\n     <use x=\"149.714844\" xlink:href=\"#DejaVuSans-6c\"/>\n     <use x=\"177.498047\" xlink:href=\"#DejaVuSans-6f\"/>\n     <use x=\"238.679688\" xlink:href=\"#DejaVuSans-76\"/>\n     <use x=\"297.859375\" xlink:href=\"#DejaVuSans-65\"/>\n     <use x=\"359.382812\" xlink:href=\"#DejaVuSans-72\"/>\n    </g>\n   </g>\n  </g>\n  <g id=\"axes_2\">\n   <g clip-path=\"url(#pf22629529c)\">\n    <image height=\"131.04\" id=\"imagee9b69b3846\" transform=\"scale(1 -1)translate(0 -131.04)\" width=\"131.04\" x=\"164.752941\" xlink:href=\"data:image/png;base64,\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\" y=\"-21.725184\"/>\n   </g>\n   <g id=\"text_2\">\n    <!-- Coat -->\n    <g transform=\"translate(216.086471 16.318125)scale(0.12 -0.12)\">\n     <defs>\n      <path d=\"M 4122 4306 \nL 4122 3641 \nQ 3803 3938 3442 4084 \nQ 3081 4231 2675 4231 \nQ 1875 4231 1450 3742 \nQ 1025 3253 1025 2328 \nQ 1025 1406 1450 917 \nQ 1875 428 2675 428 \nQ 3081 428 3442 575 \nQ 3803 722 4122 1019 \nL 4122 359 \nQ 3791 134 3420 21 \nQ 3050 -91 2638 -91 \nQ 1578 -91 968 557 \nQ 359 1206 359 2328 \nQ 359 3453 968 4101 \nQ 1578 4750 2638 4750 \nQ 3056 4750 3426 4639 \nQ 3797 4528 4122 4306 \nz\n\" id=\"DejaVuSans-43\" transform=\"scale(0.015625)\"/>\n      <path d=\"M 2194 1759 \nQ 1497 1759 1228 1600 \nQ 959 1441 959 1056 \nQ 959 750 1161 570 \nQ 1363 391 1709 391 \nQ 2188 391 2477 730 \nQ 2766 1069 2766 1631 \nL 2766 1759 \nL 2194 1759 \nz\nM 3341 1997 \nL 3341 0 \nL 2766 0 \nL 2766 531 \nQ 2569 213 2275 61 \nQ 1981 -91 1556 -91 \nQ 1019 -91 701 211 \nQ 384 513 384 1019 \nQ 384 1609 779 1909 \nQ 1175 2209 1959 2209 \nL 2766 2209 \nL 2766 2266 \nQ 2766 2663 2505 2880 \nQ 2244 3097 1772 3097 \nQ 1472 3097 1187 3025 \nQ 903 2953 641 2809 \nL 641 3341 \nQ 956 3463 1253 3523 \nQ 1550 3584 1831 3584 \nQ 2591 3584 2966 3190 \nQ 3341 2797 3341 1997 \nz\n\" id=\"DejaVuSans-61\" transform=\"scale(0.015625)\"/>\n      <path d=\"M 1172 4494 \nL 1172 3500 \nL 2356 3500 \nL 2356 3053 \nL 1172 3053 \nL 1172 1153 \nQ 1172 725 1289 603 \nQ 1406 481 1766 481 \nL 2356 481 \nL 2356 0 \nL 1766 0 \nQ 1100 0 847 248 \nQ 594 497 594 1153 \nL 594 3053 \nL 172 3053 \nL 172 3500 \nL 594 3500 \nL 594 4494 \nL 1172 4494 \nz\n\" id=\"DejaVuSans-74\" transform=\"scale(0.015625)\"/>\n     </defs>\n     <use xlink:href=\"#DejaVuSans-43\"/>\n     <use x=\"69.824219\" xlink:href=\"#DejaVuSans-6f\"/>\n     <use x=\"131.005859\" xlink:href=\"#DejaVuSans-61\"/>\n     <use x=\"192.285156\" xlink:href=\"#DejaVuSans-74\"/>\n    </g>\n   </g>\n  </g>\n  <g id=\"axes_3\">\n   <g clip-path=\"url(#p25c4db4231)\">\n    <image height=\"131.04\" id=\"image7a6963ed73\" transform=\"scale(1 -1)translate(0 -131.04)\" width=\"131.04\" x=\"322.305882\" xlink:href=\"data:image/png;base64,\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\" y=\"-21.725184\"/>\n   </g>\n   <g id=\"text_3\">\n    <!-- Pullover -->\n    <g transform=\"translate(363.499412 16.318125)scale(0.12 -0.12)\">\n     <use xlink:href=\"#DejaVuSans-50\"/>\n     <use x=\"58.552734\" xlink:href=\"#DejaVuSans-75\"/>\n     <use x=\"121.931641\" xlink:href=\"#DejaVuSans-6c\"/>\n     <use x=\"149.714844\" xlink:href=\"#DejaVuSans-6c\"/>\n     <use x=\"177.498047\" xlink:href=\"#DejaVuSans-6f\"/>\n     <use x=\"238.679688\" xlink:href=\"#DejaVuSans-76\"/>\n     <use x=\"297.859375\" xlink:href=\"#DejaVuSans-65\"/>\n     <use x=\"359.382812\" xlink:href=\"#DejaVuSans-72\"/>\n    </g>\n   </g>\n  </g>\n  <g id=\"axes_4\">\n   <g clip-path=\"url(#pb32c9b949f)\">\n    <image height=\"131.04\" id=\"imaged70f4d76f2\" transform=\"scale(1 -1)translate(0 -131.04)\" width=\"131.04\" x=\"7.2\" xlink:href=\"data:image/png;base64,\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\" y=\"-178.261654\"/>\n   </g>\n   <g id=\"text_4\">\n    <!-- T-Shirt -->\n    <g transform=\"translate(53.044467 172.854596)scale(0.12 -0.12)\">\n     <defs>\n      <path d=\"M -19 4666 \nL 3928 4666 \nL 3928 4134 \nL 2272 4134 \nL 2272 0 \nL 1638 0 \nL 1638 4134 \nL -19 4134 \nL -19 4666 \nz\n\" id=\"DejaVuSans-54\" transform=\"scale(0.015625)\"/>\n      <path d=\"M 313 2009 \nL 1997 2009 \nL 1997 1497 \nL 313 1497 \nL 313 2009 \nz\n\" id=\"DejaVuSans-2d\" transform=\"scale(0.015625)\"/>\n      <path d=\"M 3425 4513 \nL 3425 3897 \nQ 3066 4069 2747 4153 \nQ 2428 4238 2131 4238 \nQ 1616 4238 1336 4038 \nQ 1056 3838 1056 3469 \nQ 1056 3159 1242 3001 \nQ 1428 2844 1947 2747 \nL 2328 2669 \nQ 3034 2534 3370 2195 \nQ 3706 1856 3706 1288 \nQ 3706 609 3251 259 \nQ 2797 -91 1919 -91 \nQ 1588 -91 1214 -16 \nQ 841 59 441 206 \nL 441 856 \nQ 825 641 1194 531 \nQ 1563 422 1919 422 \nQ 2459 422 2753 634 \nQ 3047 847 3047 1241 \nQ 3047 1584 2836 1778 \nQ 2625 1972 2144 2069 \nL 1759 2144 \nQ 1053 2284 737 2584 \nQ 422 2884 422 3419 \nQ 422 4038 858 4394 \nQ 1294 4750 2059 4750 \nQ 2388 4750 2728 4690 \nQ 3069 4631 3425 4513 \nz\n\" id=\"DejaVuSans-53\" transform=\"scale(0.015625)\"/>\n      <path d=\"M 3513 2113 \nL 3513 0 \nL 2938 0 \nL 2938 2094 \nQ 2938 2591 2744 2837 \nQ 2550 3084 2163 3084 \nQ 1697 3084 1428 2787 \nQ 1159 2491 1159 1978 \nL 1159 0 \nL 581 0 \nL 581 4863 \nL 1159 4863 \nL 1159 2956 \nQ 1366 3272 1645 3428 \nQ 1925 3584 2291 3584 \nQ 2894 3584 3203 3211 \nQ 3513 2838 3513 2113 \nz\n\" id=\"DejaVuSans-68\" transform=\"scale(0.015625)\"/>\n      <path d=\"M 603 3500 \nL 1178 3500 \nL 1178 0 \nL 603 0 \nL 603 3500 \nz\nM 603 4863 \nL 1178 4863 \nL 1178 4134 \nL 603 4134 \nL 603 4863 \nz\n\" id=\"DejaVuSans-69\" transform=\"scale(0.015625)\"/>\n     </defs>\n     <use xlink:href=\"#DejaVuSans-54\"/>\n     <use x=\"51.958984\" xlink:href=\"#DejaVuSans-2d\"/>\n     <use x=\"88.042969\" xlink:href=\"#DejaVuSans-53\"/>\n     <use x=\"151.519531\" xlink:href=\"#DejaVuSans-68\"/>\n     <use x=\"214.898438\" xlink:href=\"#DejaVuSans-69\"/>\n     <use x=\"242.681641\" xlink:href=\"#DejaVuSans-72\"/>\n     <use x=\"283.794922\" xlink:href=\"#DejaVuSans-74\"/>\n    </g>\n   </g>\n  </g>\n  <g id=\"axes_5\">\n   <g clip-path=\"url(#p817d03c6c6)\">\n    <image height=\"131.04\" id=\"image15fdc61923\" transform=\"scale(1 -1)translate(0 -131.04)\" width=\"131.04\" x=\"164.752941\" xlink:href=\"data:image/png;base64,\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\" y=\"-178.261654\"/>\n   </g>\n   <g id=\"text_5\">\n    <!-- Shirt -->\n    <g transform=\"translate(215.879283 172.854596)scale(0.12 -0.12)\">\n     <use xlink:href=\"#DejaVuSans-53\"/>\n     <use x=\"63.476562\" xlink:href=\"#DejaVuSans-68\"/>\n     <use x=\"126.855469\" xlink:href=\"#DejaVuSans-69\"/>\n     <use x=\"154.638672\" xlink:href=\"#DejaVuSans-72\"/>\n     <use x=\"195.751953\" xlink:href=\"#DejaVuSans-74\"/>\n    </g>\n   </g>\n  </g>\n  <g id=\"axes_6\">\n   <g clip-path=\"url(#pf814a63d52)\">\n    <image height=\"131.04\" id=\"imagef19c45e55a\" transform=\"scale(1 -1)translate(0 -131.04)\" width=\"131.04\" x=\"322.305882\" xlink:href=\"data:image/png;base64,\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\" y=\"-178.261654\"/>\n   </g>\n   <g id=\"text_6\">\n    <!-- Bag -->\n    <g transform=\"translate(375.926912 172.854596)scale(0.12 -0.12)\">\n     <defs>\n      <path d=\"M 1259 2228 \nL 1259 519 \nL 2272 519 \nQ 2781 519 3026 730 \nQ 3272 941 3272 1375 \nQ 3272 1813 3026 2020 \nQ 2781 2228 2272 2228 \nL 1259 2228 \nz\nM 1259 4147 \nL 1259 2741 \nL 2194 2741 \nQ 2656 2741 2882 2914 \nQ 3109 3088 3109 3444 \nQ 3109 3797 2882 3972 \nQ 2656 4147 2194 4147 \nL 1259 4147 \nz\nM 628 4666 \nL 2241 4666 \nQ 2963 4666 3353 4366 \nQ 3744 4066 3744 3513 \nQ 3744 3084 3544 2831 \nQ 3344 2578 2956 2516 \nQ 3422 2416 3680 2098 \nQ 3938 1781 3938 1306 \nQ 3938 681 3513 340 \nQ 3088 0 2303 0 \nL 628 0 \nL 628 4666 \nz\n\" id=\"DejaVuSans-42\" transform=\"scale(0.015625)\"/>\n      <path d=\"M 2906 1791 \nQ 2906 2416 2648 2759 \nQ 2391 3103 1925 3103 \nQ 1463 3103 1205 2759 \nQ 947 2416 947 1791 \nQ 947 1169 1205 825 \nQ 1463 481 1925 481 \nQ 2391 481 2648 825 \nQ 2906 1169 2906 1791 \nz\nM 3481 434 \nQ 3481 -459 3084 -895 \nQ 2688 -1331 1869 -1331 \nQ 1566 -1331 1297 -1286 \nQ 1028 -1241 775 -1147 \nL 775 -588 \nQ 1028 -725 1275 -790 \nQ 1522 -856 1778 -856 \nQ 2344 -856 2625 -561 \nQ 2906 -266 2906 331 \nL 2906 616 \nQ 2728 306 2450 153 \nQ 2172 0 1784 0 \nQ 1141 0 747 490 \nQ 353 981 353 1791 \nQ 353 2603 747 3093 \nQ 1141 3584 1784 3584 \nQ 2172 3584 2450 3431 \nQ 2728 3278 2906 2969 \nL 2906 3500 \nL 3481 3500 \nL 3481 434 \nz\n\" id=\"DejaVuSans-67\" transform=\"scale(0.015625)\"/>\n     </defs>\n     <use xlink:href=\"#DejaVuSans-42\"/>\n     <use x=\"68.603516\" xlink:href=\"#DejaVuSans-61\"/>\n     <use x=\"129.882812\" xlink:href=\"#DejaVuSans-67\"/>\n    </g>\n   </g>\n  </g>\n  <g id=\"axes_7\">\n   <g clip-path=\"url(#pd73ab55de0)\">\n    <image height=\"131.04\" id=\"image58f4b10943\" transform=\"scale(1 -1)translate(0 -131.04)\" width=\"131.04\" x=\"7.2\" xlink:href=\"data:image/png;base64,\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\" y=\"-334.798125\"/>\n   </g>\n   <g id=\"text_7\">\n    <!-- Shirt -->\n    <g transform=\"translate(58.326342 329.391066)scale(0.12 -0.12)\">\n     <use xlink:href=\"#DejaVuSans-53\"/>\n     <use x=\"63.476562\" xlink:href=\"#DejaVuSans-68\"/>\n     <use x=\"126.855469\" xlink:href=\"#DejaVuSans-69\"/>\n     <use x=\"154.638672\" xlink:href=\"#DejaVuSans-72\"/>\n     <use x=\"195.751953\" xlink:href=\"#DejaVuSans-74\"/>\n    </g>\n   </g>\n  </g>\n  <g id=\"axes_8\">\n   <g clip-path=\"url(#p274ff625c8)\">\n    <image height=\"131.04\" id=\"image3ab14e263a\" transform=\"scale(1 -1)translate(0 -131.04)\" width=\"131.04\" x=\"164.752941\" xlink:href=\"data:image/png;base64,\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\" y=\"-334.798125\"/>\n   </g>\n   <g id=\"text_8\">\n    <!-- Shirt -->\n    <g transform=\"translate(215.879283 329.391066)scale(0.12 -0.12)\">\n     <use xlink:href=\"#DejaVuSans-53\"/>\n     <use x=\"63.476562\" xlink:href=\"#DejaVuSans-68\"/>\n     <use x=\"126.855469\" xlink:href=\"#DejaVuSans-69\"/>\n     <use x=\"154.638672\" xlink:href=\"#DejaVuSans-72\"/>\n     <use x=\"195.751953\" xlink:href=\"#DejaVuSans-74\"/>\n    </g>\n   </g>\n  </g>\n  <g id=\"axes_9\">\n   <g clip-path=\"url(#p4bf133e9a1)\">\n    <image height=\"131.04\" id=\"image812e81ea40\" transform=\"scale(1 -1)translate(0 -131.04)\" width=\"131.04\" x=\"322.305882\" xlink:href=\"data:image/png;base64,\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\" y=\"-334.798125\"/>\n   </g>\n   <g id=\"text_9\">\n    <!-- Dress -->\n    <g transform=\"translate(370.634724 329.391066)scale(0.12 -0.12)\">\n     <defs>\n      <path d=\"M 1259 4147 \nL 1259 519 \nL 2022 519 \nQ 2988 519 3436 956 \nQ 3884 1394 3884 2338 \nQ 3884 3275 3436 3711 \nQ 2988 4147 2022 4147 \nL 1259 4147 \nz\nM 628 4666 \nL 1925 4666 \nQ 3281 4666 3915 4102 \nQ 4550 3538 4550 2338 \nQ 4550 1131 3912 565 \nQ 3275 0 1925 0 \nL 628 0 \nL 628 4666 \nz\n\" id=\"DejaVuSans-44\" transform=\"scale(0.015625)\"/>\n      <path d=\"M 2834 3397 \nL 2834 2853 \nQ 2591 2978 2328 3040 \nQ 2066 3103 1784 3103 \nQ 1356 3103 1142 2972 \nQ 928 2841 928 2578 \nQ 928 2378 1081 2264 \nQ 1234 2150 1697 2047 \nL 1894 2003 \nQ 2506 1872 2764 1633 \nQ 3022 1394 3022 966 \nQ 3022 478 2636 193 \nQ 2250 -91 1575 -91 \nQ 1294 -91 989 -36 \nQ 684 19 347 128 \nL 347 722 \nQ 666 556 975 473 \nQ 1284 391 1588 391 \nQ 1994 391 2212 530 \nQ 2431 669 2431 922 \nQ 2431 1156 2273 1281 \nQ 2116 1406 1581 1522 \nL 1381 1569 \nQ 847 1681 609 1914 \nQ 372 2147 372 2553 \nQ 372 3047 722 3315 \nQ 1072 3584 1716 3584 \nQ 2034 3584 2315 3537 \nQ 2597 3491 2834 3397 \nz\n\" id=\"DejaVuSans-73\" transform=\"scale(0.015625)\"/>\n     </defs>\n     <use xlink:href=\"#DejaVuSans-44\"/>\n     <use x=\"77.001953\" xlink:href=\"#DejaVuSans-72\"/>\n     <use x=\"115.865234\" xlink:href=\"#DejaVuSans-65\"/>\n     <use x=\"177.388672\" xlink:href=\"#DejaVuSans-73\"/>\n     <use x=\"229.488281\" xlink:href=\"#DejaVuSans-73\"/>\n    </g>\n   </g>\n  </g>\n </g>\n <defs>\n  <clipPath id=\"p7afe90404b\">\n   <rect height=\"130.447059\" width=\"130.447059\" x=\"7.2\" y=\"22.318125\"/>\n  </clipPath>\n  <clipPath id=\"pf22629529c\">\n   <rect height=\"130.447059\" width=\"130.447059\" x=\"164.752941\" y=\"22.318125\"/>\n  </clipPath>\n  <clipPath id=\"p25c4db4231\">\n   <rect height=\"130.447059\" width=\"130.447059\" x=\"322.305882\" y=\"22.318125\"/>\n  </clipPath>\n  <clipPath id=\"pb32c9b949f\">\n   <rect height=\"130.447059\" width=\"130.447059\" x=\"7.2\" y=\"178.854596\"/>\n  </clipPath>\n  <clipPath id=\"p817d03c6c6\">\n   <rect height=\"130.447059\" width=\"130.447059\" x=\"164.752941\" y=\"178.854596\"/>\n  </clipPath>\n  <clipPath id=\"pf814a63d52\">\n   <rect height=\"130.447059\" width=\"130.447059\" x=\"322.305882\" y=\"178.854596\"/>\n  </clipPath>\n  <clipPath id=\"pd73ab55de0\">\n   <rect height=\"130.447059\" width=\"130.447059\" x=\"7.2\" y=\"335.391066\"/>\n  </clipPath>\n  <clipPath id=\"p274ff625c8\">\n   <rect height=\"130.447059\" width=\"130.447059\" x=\"164.752941\" y=\"335.391066\"/>\n  </clipPath>\n  <clipPath id=\"p4bf133e9a1\">\n   <rect height=\"130.447059\" width=\"130.447059\" x=\"322.305882\" y=\"335.391066\"/>\n  </clipPath>\n </defs>\n</svg>\n",
      "image/png": "[encoded data removed]"
     },
     "metadata": {}
    }
   ],
   "source": [
    "labels_map: dict = {\n",
    "    0: \"T-Shirt\",\n",
    "    1: \"Trouser\",\n",
    "    2: \"Pullover\",\n",
    "    3: \"Dress\",\n",
    "    4: \"Coat\",\n",
    "    5: \"Sandal\",\n",
    "    6: \"Shirt\",\n",
    "    7: \"Sneaker\",\n",
    "    8: \"Bag\",\n",
    "    9: \"Ankle Boot\",\n",
    "}\n",
    "figure = plt.figure(figsize=(8, 8))\n",
    "cols, rows = 3, 3\n",
    "for i in range(1, cols * rows + 1):\n",
    "    sample_idx = torch.randint(len(training_data), size=(1,)).item()\n",
    "    img, label = training_data[sample_idx]\n",
    "    figure.add_subplot(rows, cols, i)\n",
    "    plt.title(labels_map[label])\n",
    "    plt.axis('off')\n",
    "    plt.imshow(img.squeeze(), cmap='gray')\n",
    "plt.show()"
   ]
  },
  {
   "source": [
    "# Creating a Custom Dataset for your files (placeholder will be added later ![link](https://pytorch.org/tutorials/beginner/basics/data_tutorial.html#creating-a-custom-dataset-for-your-files))\n"
   ],
   "cell_type": "markdown",
   "metadata": {}
  },
  {
   "cell_type": "code",
   "execution_count": null,
   "metadata": {},
   "outputs": [],
   "source": []
  },
  {
   "source": [
    "# Preparing your data for training with DataLoaders\n",
    "\n",
    "The `Dataset` retrieves our datasets features and labels one sample aat the time.\n",
    "\n",
    "While training a model, we typically want to pass samples in 'minibatches',\n",
    "reshuffle the data at every epoch to reduce model overfitting, \n",
    "and use Pythons `multiprocessing` to speed up data retrieval.\n",
    "\n",
    "`DataLoader` is an iterable that abstracts this complexity with an API."
   ],
   "cell_type": "markdown",
   "metadata": {}
  },
  {
   "source": [
    "# Iterate through the DataLoader\n",
    "\n",
    "We have loaded that dataset into the `DataLoader` and can iterate through the dataset as needed.\n",
    "\n",
    "Each iteration below returns a batch of `train_features` and `train_labels` (containing `batch_size=64` features and labels respectively).\n",
    "\n",
    "Because we specified `shuffle=True`, after we iterate over all batches the data is shuffled (for finer-grained control over the data loading order, take a look at `Sampler`)"
   ],
   "cell_type": "markdown",
   "metadata": {}
  },
  {
   "cell_type": "code",
   "execution_count": 16,
   "metadata": {},
   "outputs": [
    {
     "output_type": "stream",
     "name": "stdout",
     "text": [
      "Feature batch shape: torch.Size([64, 1, 28, 28])\nLabels batch shape: torch.Size([64])\n"
     ]
    },
    {
     "output_type": "display_data",
     "data": {
      "text/plain": "<Figure size 640x480 with 1 Axes>",
      "image/svg+xml": "<?xml version=\"1.0\" encoding=\"utf-8\" standalone=\"no\"?>\n<!DOCTYPE svg PUBLIC \"-//W3C//DTD SVG 1.1//EN\"\n  \"http://www.w3.org/Graphics/SVG/1.1/DTD/svg11.dtd\">\n<svg height=\"297.190125pt\" version=\"1.1\" viewBox=\"0 0 300.237 297.190125\" width=\"300.237pt\" xmlns=\"http://www.w3.org/2000/svg\" xmlns:xlink=\"http://www.w3.org/1999/xlink\">\n <metadata>\n  <rdf:RDF xmlns:cc=\"http://creativecommons.org/ns#\" xmlns:dc=\"http://purl.org/dc/elements/1.1/\" xmlns:rdf=\"http://www.w3.org/1999/02/22-rdf-syntax-ns#\">\n   <cc:Work>\n    <dc:type rdf:resource=\"http://purl.org/dc/dcmitype/StillImage\"/>\n    <dc:date>2021-06-11T10:48:21.233750</dc:date>\n    <dc:format>image/svg+xml</dc:format>\n    <dc:creator>\n     <cc:Agent>\n      <dc:title>Matplotlib v3.4.2, https://matplotlib.org/</dc:title>\n     </cc:Agent>\n    </dc:creator>\n   </cc:Work>\n  </rdf:RDF>\n </metadata>\n <defs>\n  <style type=\"text/css\">*{stroke-linecap:butt;stroke-linejoin:round;}</style>\n </defs>\n <g id=\"figure_1\">\n  <g id=\"patch_1\">\n   <path d=\"M -0 297.190125 \nL 300.237 297.190125 \nL 300.237 0 \nL -0 0 \nz\n\" style=\"fill:#ffffff;\"/>\n  </g>\n  <g id=\"axes_1\">\n   <g id=\"patch_2\">\n    <path d=\"M 26.925 273.312 \nL 293.037 273.312 \nL 293.037 7.2 \nL 26.925 7.2 \nz\n\" style=\"fill:#ffffff;\"/>\n   </g>\n   <g clip-path=\"url(#p03e92baf5a)\">\n    <image height=\"266.4\" id=\"imagebf12132730\" transform=\"scale(1 -1)translate(0 -266.4)\" width=\"266.4\" x=\"26.925\" xlink:href=\"data:image/png;base64,\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\" y=\"-6.912\"/>\n   </g>\n   <g id=\"matplotlib.axis_1\">\n    <g id=\"xtick_1\">\n     <g id=\"line2d_1\">\n      <defs>\n       <path d=\"M 0 0 \nL 0 3.5 \n\" id=\"m4ec29c1f22\" style=\"stroke:#000000;stroke-width:0.8;\"/>\n      </defs>\n      <g>\n       <use style=\"stroke:#000000;stroke-width:0.8;\" x=\"31.677\" xlink:href=\"#m4ec29c1f22\" y=\"273.312\"/>\n      </g>\n     </g>\n     <g id=\"text_1\">\n      <!-- 0 -->\n      <g transform=\"translate(28.49575 287.910437)scale(0.1 -0.1)\">\n       <defs>\n        <path d=\"M 2034 4250 \nQ 1547 4250 1301 3770 \nQ 1056 3291 1056 2328 \nQ 1056 1369 1301 889 \nQ 1547 409 2034 409 \nQ 2525 409 2770 889 \nQ 3016 1369 3016 2328 \nQ 3016 3291 2770 3770 \nQ 2525 4250 2034 4250 \nz\nM 2034 4750 \nQ 2819 4750 3233 4129 \nQ 3647 3509 3647 2328 \nQ 3647 1150 3233 529 \nQ 2819 -91 2034 -91 \nQ 1250 -91 836 529 \nQ 422 1150 422 2328 \nQ 422 3509 836 4129 \nQ 1250 4750 2034 4750 \nz\n\" id=\"DejaVuSans-30\" transform=\"scale(0.015625)\"/>\n       </defs>\n       <use xlink:href=\"#DejaVuSans-30\"/>\n      </g>\n     </g>\n    </g>\n    <g id=\"xtick_2\">\n     <g id=\"line2d_2\">\n      <g>\n       <use style=\"stroke:#000000;stroke-width:0.8;\" x=\"79.197\" xlink:href=\"#m4ec29c1f22\" y=\"273.312\"/>\n      </g>\n     </g>\n     <g id=\"text_2\">\n      <!-- 5 -->\n      <g transform=\"translate(76.01575 287.910437)scale(0.1 -0.1)\">\n       <defs>\n        <path d=\"M 691 4666 \nL 3169 4666 \nL 3169 4134 \nL 1269 4134 \nL 1269 2991 \nQ 1406 3038 1543 3061 \nQ 1681 3084 1819 3084 \nQ 2600 3084 3056 2656 \nQ 3513 2228 3513 1497 \nQ 3513 744 3044 326 \nQ 2575 -91 1722 -91 \nQ 1428 -91 1123 -41 \nQ 819 9 494 109 \nL 494 744 \nQ 775 591 1075 516 \nQ 1375 441 1709 441 \nQ 2250 441 2565 725 \nQ 2881 1009 2881 1497 \nQ 2881 1984 2565 2268 \nQ 2250 2553 1709 2553 \nQ 1456 2553 1204 2497 \nQ 953 2441 691 2322 \nL 691 4666 \nz\n\" id=\"DejaVuSans-35\" transform=\"scale(0.015625)\"/>\n       </defs>\n       <use xlink:href=\"#DejaVuSans-35\"/>\n      </g>\n     </g>\n    </g>\n    <g id=\"xtick_3\">\n     <g id=\"line2d_3\">\n      <g>\n       <use style=\"stroke:#000000;stroke-width:0.8;\" x=\"126.717\" xlink:href=\"#m4ec29c1f22\" y=\"273.312\"/>\n      </g>\n     </g>\n     <g id=\"text_3\">\n      <!-- 10 -->\n      <g transform=\"translate(120.3545 287.910437)scale(0.1 -0.1)\">\n       <defs>\n        <path d=\"M 794 531 \nL 1825 531 \nL 1825 4091 \nL 703 3866 \nL 703 4441 \nL 1819 4666 \nL 2450 4666 \nL 2450 531 \nL 3481 531 \nL 3481 0 \nL 794 0 \nL 794 531 \nz\n\" id=\"DejaVuSans-31\" transform=\"scale(0.015625)\"/>\n       </defs>\n       <use xlink:href=\"#DejaVuSans-31\"/>\n       <use x=\"63.623047\" xlink:href=\"#DejaVuSans-30\"/>\n      </g>\n     </g>\n    </g>\n    <g id=\"xtick_4\">\n     <g id=\"line2d_4\">\n      <g>\n       <use style=\"stroke:#000000;stroke-width:0.8;\" x=\"174.237\" xlink:href=\"#m4ec29c1f22\" y=\"273.312\"/>\n      </g>\n     </g>\n     <g id=\"text_4\">\n      <!-- 15 -->\n      <g transform=\"translate(167.8745 287.910437)scale(0.1 -0.1)\">\n       <use xlink:href=\"#DejaVuSans-31\"/>\n       <use x=\"63.623047\" xlink:href=\"#DejaVuSans-35\"/>\n      </g>\n     </g>\n    </g>\n    <g id=\"xtick_5\">\n     <g id=\"line2d_5\">\n      <g>\n       <use style=\"stroke:#000000;stroke-width:0.8;\" x=\"221.757\" xlink:href=\"#m4ec29c1f22\" y=\"273.312\"/>\n      </g>\n     </g>\n     <g id=\"text_5\">\n      <!-- 20 -->\n      <g transform=\"translate(215.3945 287.910437)scale(0.1 -0.1)\">\n       <defs>\n        <path d=\"M 1228 531 \nL 3431 531 \nL 3431 0 \nL 469 0 \nL 469 531 \nQ 828 903 1448 1529 \nQ 2069 2156 2228 2338 \nQ 2531 2678 2651 2914 \nQ 2772 3150 2772 3378 \nQ 2772 3750 2511 3984 \nQ 2250 4219 1831 4219 \nQ 1534 4219 1204 4116 \nQ 875 4013 500 3803 \nL 500 4441 \nQ 881 4594 1212 4672 \nQ 1544 4750 1819 4750 \nQ 2544 4750 2975 4387 \nQ 3406 4025 3406 3419 \nQ 3406 3131 3298 2873 \nQ 3191 2616 2906 2266 \nQ 2828 2175 2409 1742 \nQ 1991 1309 1228 531 \nz\n\" id=\"DejaVuSans-32\" transform=\"scale(0.015625)\"/>\n       </defs>\n       <use xlink:href=\"#DejaVuSans-32\"/>\n       <use x=\"63.623047\" xlink:href=\"#DejaVuSans-30\"/>\n      </g>\n     </g>\n    </g>\n    <g id=\"xtick_6\">\n     <g id=\"line2d_6\">\n      <g>\n       <use style=\"stroke:#000000;stroke-width:0.8;\" x=\"269.277\" xlink:href=\"#m4ec29c1f22\" y=\"273.312\"/>\n      </g>\n     </g>\n     <g id=\"text_6\">\n      <!-- 25 -->\n      <g transform=\"translate(262.9145 287.910437)scale(0.1 -0.1)\">\n       <use xlink:href=\"#DejaVuSans-32\"/>\n       <use x=\"63.623047\" xlink:href=\"#DejaVuSans-35\"/>\n      </g>\n     </g>\n    </g>\n   </g>\n   <g id=\"matplotlib.axis_2\">\n    <g id=\"ytick_1\">\n     <g id=\"line2d_7\">\n      <defs>\n       <path d=\"M 0 0 \nL -3.5 0 \n\" id=\"madb90b2615\" style=\"stroke:#000000;stroke-width:0.8;\"/>\n      </defs>\n      <g>\n       <use style=\"stroke:#000000;stroke-width:0.8;\" x=\"26.925\" xlink:href=\"#madb90b2615\" y=\"11.952\"/>\n      </g>\n     </g>\n     <g id=\"text_7\">\n      <!-- 0 -->\n      <g transform=\"translate(13.5625 15.751219)scale(0.1 -0.1)\">\n       <use xlink:href=\"#DejaVuSans-30\"/>\n      </g>\n     </g>\n    </g>\n    <g id=\"ytick_2\">\n     <g id=\"line2d_8\">\n      <g>\n       <use style=\"stroke:#000000;stroke-width:0.8;\" x=\"26.925\" xlink:href=\"#madb90b2615\" y=\"59.472\"/>\n      </g>\n     </g>\n     <g id=\"text_8\">\n      <!-- 5 -->\n      <g transform=\"translate(13.5625 63.271219)scale(0.1 -0.1)\">\n       <use xlink:href=\"#DejaVuSans-35\"/>\n      </g>\n     </g>\n    </g>\n    <g id=\"ytick_3\">\n     <g id=\"line2d_9\">\n      <g>\n       <use style=\"stroke:#000000;stroke-width:0.8;\" x=\"26.925\" xlink:href=\"#madb90b2615\" y=\"106.992\"/>\n      </g>\n     </g>\n     <g id=\"text_9\">\n      <!-- 10 -->\n      <g transform=\"translate(7.2 110.791219)scale(0.1 -0.1)\">\n       <use xlink:href=\"#DejaVuSans-31\"/>\n       <use x=\"63.623047\" xlink:href=\"#DejaVuSans-30\"/>\n      </g>\n     </g>\n    </g>\n    <g id=\"ytick_4\">\n     <g id=\"line2d_10\">\n      <g>\n       <use style=\"stroke:#000000;stroke-width:0.8;\" x=\"26.925\" xlink:href=\"#madb90b2615\" y=\"154.512\"/>\n      </g>\n     </g>\n     <g id=\"text_10\">\n      <!-- 15 -->\n      <g transform=\"translate(7.2 158.311219)scale(0.1 -0.1)\">\n       <use xlink:href=\"#DejaVuSans-31\"/>\n       <use x=\"63.623047\" xlink:href=\"#DejaVuSans-35\"/>\n      </g>\n     </g>\n    </g>\n    <g id=\"ytick_5\">\n     <g id=\"line2d_11\">\n      <g>\n       <use style=\"stroke:#000000;stroke-width:0.8;\" x=\"26.925\" xlink:href=\"#madb90b2615\" y=\"202.032\"/>\n      </g>\n     </g>\n     <g id=\"text_11\">\n      <!-- 20 -->\n      <g transform=\"translate(7.2 205.831219)scale(0.1 -0.1)\">\n       <use xlink:href=\"#DejaVuSans-32\"/>\n       <use x=\"63.623047\" xlink:href=\"#DejaVuSans-30\"/>\n      </g>\n     </g>\n    </g>\n    <g id=\"ytick_6\">\n     <g id=\"line2d_12\">\n      <g>\n       <use style=\"stroke:#000000;stroke-width:0.8;\" x=\"26.925\" xlink:href=\"#madb90b2615\" y=\"249.552\"/>\n      </g>\n     </g>\n     <g id=\"text_12\">\n      <!-- 25 -->\n      <g transform=\"translate(7.2 253.351219)scale(0.1 -0.1)\">\n       <use xlink:href=\"#DejaVuSans-32\"/>\n       <use x=\"63.623047\" xlink:href=\"#DejaVuSans-35\"/>\n      </g>\n     </g>\n    </g>\n   </g>\n   <g id=\"patch_3\">\n    <path d=\"M 26.925 273.312 \nL 26.925 7.2 \n\" style=\"fill:none;stroke:#000000;stroke-linecap:square;stroke-linejoin:miter;stroke-width:0.8;\"/>\n   </g>\n   <g id=\"patch_4\">\n    <path d=\"M 293.037 273.312 \nL 293.037 7.2 \n\" style=\"fill:none;stroke:#000000;stroke-linecap:square;stroke-linejoin:miter;stroke-width:0.8;\"/>\n   </g>\n   <g id=\"patch_5\">\n    <path d=\"M 26.925 273.312 \nL 293.037 273.312 \n\" style=\"fill:none;stroke:#000000;stroke-linecap:square;stroke-linejoin:miter;stroke-width:0.8;\"/>\n   </g>\n   <g id=\"patch_6\">\n    <path d=\"M 26.925 7.2 \nL 293.037 7.2 \n\" style=\"fill:none;stroke:#000000;stroke-linecap:square;stroke-linejoin:miter;stroke-width:0.8;\"/>\n   </g>\n  </g>\n </g>\n <defs>\n  <clipPath id=\"p03e92baf5a\">\n   <rect height=\"266.112\" width=\"266.112\" x=\"26.925\" y=\"7.2\"/>\n  </clipPath>\n </defs>\n</svg>\n",
      "image/png": "[encoded data removed]"
     },
     "metadata": {}
    },
    {
     "output_type": "stream",
     "name": "stdout",
     "text": [
      "Label: 8\n"
     ]
    }
   ],
   "source": [
    "# Display image and label\n",
    "train_features, train_labels = next(iter(train_dataloader))\n",
    "print(f'Feature batch shape: {train_features.size()}')\n",
    "print(f'Labels batch shape: {train_labels.size()}')\n",
    "\n",
    "img = train_features[0].squeeze()\n",
    "label = train_labels[0]\n",
    "plt.imshow(img, cmap='gray')\n",
    "plt.show()\n",
    "print(f'Label: {label}')"
   ]
  }
 ]
}